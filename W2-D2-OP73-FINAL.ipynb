{
 "cells": [
  {
   "cell_type": "markdown",
   "metadata": {},
   "source": [
    "# Functions, Scoping, Data Collections 1 & List Comprehensions"
   ]
  },
  {
   "cell_type": "markdown",
   "metadata": {},
   "source": [
    "## Tasks Today:\n",
    "\n",
    "1) String Manipulation <br>\n",
    " &nbsp;&nbsp;&nbsp;&nbsp; a) strip() <br>\n",
    " &nbsp;&nbsp;&nbsp;&nbsp; b) title() <br>\n",
    "2) Working With Lists <br>\n",
    " &nbsp;&nbsp;&nbsp;&nbsp; a) min() <br>\n",
    " &nbsp;&nbsp;&nbsp;&nbsp; b) max() <br>\n",
    " &nbsp;&nbsp;&nbsp;&nbsp; c) sum() <br>\n",
    " &nbsp;&nbsp;&nbsp;&nbsp; d) sort() <br>\n",
    " &nbsp;&nbsp;&nbsp;&nbsp; e) Copying a List <br>\n",
    " &nbsp;&nbsp;&nbsp;&nbsp; f) 'in' keyword <br>\n",
    " &nbsp;&nbsp;&nbsp;&nbsp; g) 'not in' keyword <br>\n",
    " &nbsp;&nbsp;&nbsp;&nbsp; i) Checking an Empty List <br>\n",
    " &nbsp;&nbsp;&nbsp;&nbsp; j) Removing Instances with a Loop <br>\n",
    "3) List Comprehensions <br>\n",
    "4) Tuples <br>\n",
    " &nbsp;&nbsp;&nbsp;&nbsp; a) sorted() <br>\n",
    "5) Functions <br>\n",
    " &nbsp;&nbsp;&nbsp;&nbsp; a) User-Defined vs. Built-In Functions <br>\n",
    " &nbsp;&nbsp;&nbsp;&nbsp; b) Accepting Parameters <br>\n",
    " &nbsp;&nbsp;&nbsp;&nbsp; c) Default Parameters <br>\n",
    " &nbsp;&nbsp;&nbsp;&nbsp; d) Making an Argument Optional <br>\n",
    " &nbsp;&nbsp;&nbsp;&nbsp; e) Keyword Arguments <br>\n",
    " &nbsp;&nbsp;&nbsp;&nbsp; f) Returning Values <br>\n",
    " &nbsp;&nbsp;&nbsp;&nbsp; g) *args <br>\n",
    " &nbsp;&nbsp;&nbsp;&nbsp; h) Docstring <br>\n",
    " &nbsp;&nbsp;&nbsp;&nbsp; i) Using a User Function in a Loop <br>\n",
    "6) Scope"
   ]
  },
  {
   "cell_type": "markdown",
   "metadata": {},
   "source": [
    "### String Manipulation"
   ]
  },
  {
   "cell_type": "markdown",
   "metadata": {},
   "source": [
    "##### .lstrip()"
   ]
  },
  {
   "cell_type": "code",
   "execution_count": 57,
   "metadata": {},
   "outputs": [
    {
     "data": {
      "text/plain": [
       "'John Smith'"
      ]
     },
     "execution_count": 57,
     "metadata": {},
     "output_type": "execute_result"
    }
   ],
   "source": [
    "# string.lstrip()\n",
    "name = \"  hJohn Smith\"\n",
    "\n",
    "name = name.lstrip(\" \" \"h\")\n",
    "name"
   ]
  },
  {
   "cell_type": "markdown",
   "metadata": {},
   "source": [
    "##### .rstrip()"
   ]
  },
  {
   "cell_type": "code",
   "execution_count": 20,
   "metadata": {},
   "outputs": [
    {
     "name": "stdout",
     "output_type": "stream",
     "text": [
      "John\n"
     ]
    }
   ],
   "source": [
    "# string.rstrip()\n",
    "name = name.rstrip(\" \" \"Smith\")\n",
    "print(name)"
   ]
  },
  {
   "cell_type": "markdown",
   "metadata": {},
   "source": [
    "##### .strip()"
   ]
  },
  {
   "cell_type": "code",
   "execution_count": 33,
   "metadata": {},
   "outputs": [
    {
     "name": "stdout",
     "output_type": "stream",
     "text": [
      "John Smith\n"
     ]
    }
   ],
   "source": [
    "# string.strip()\n",
    "name = \"       John Smith      a\"\n",
    "\n",
    "name = name.strip(\" \" \"a\")\n",
    "print(name)"
   ]
  },
  {
   "cell_type": "markdown",
   "metadata": {},
   "source": [
    "##### .title(), .upper(), .lower()"
   ]
  },
  {
   "cell_type": "code",
   "execution_count": 51,
   "metadata": {},
   "outputs": [
    {
     "name": "stdout",
     "output_type": "stream",
     "text": [
      "Coding Temple\n",
      "CODING TEMPLE\n",
      "coding temple\n",
      "there is a T in here\n"
     ]
    }
   ],
   "source": [
    "# string.title()\n",
    "school = 'cOding TEmPLe'\n",
    "\n",
    "print(school.title())\n",
    "\n",
    "print(school.upper())\n",
    "\n",
    "print(school.lower())\n",
    "\n",
    "school = 'cOding TEmPLe'\n",
    "\n",
    "if 't' in school.lower():\n",
    "    print('there is a T in here')"
   ]
  },
  {
   "cell_type": "markdown",
   "metadata": {},
   "source": [
    "### String Exercise <br>\n",
    "<p>Strip all white space and capitalize every name in the list given</p>"
   ]
  },
  {
   "cell_type": "code",
   "execution_count": 64,
   "metadata": {},
   "outputs": [
    {
     "name": "stdout",
     "output_type": "stream",
     "text": [
      "['Connor', 'Max', 'Evan', 'Jordan']\n",
      "['Connor', 'Max', 'Evan', 'Jordan']\n"
     ]
    }
   ],
   "source": [
    "names = ['    coNNor', 'max', ' EVan ', 'JORDAN']\n",
    "# HINT: You will need to use a for loop for iteration\n",
    "new_list = [] # could append onto new list\n",
    "\n",
    "for value in names:\n",
    "    new_list.append(value.strip().title())\n",
    "print(new_list)\n",
    "\n",
    "\n",
    "#without a list append -- updating the OG list\n",
    "for i in range(len(names)):\n",
    "    new_string = names[i].strip().title()\n",
    "    names[i] = new_string\n",
    "print(names)\n",
    "\n",
    "    \n",
    "\n"
   ]
  },
  {
   "cell_type": "markdown",
   "metadata": {},
   "source": [
    "### Working With Lists"
   ]
  },
  {
   "cell_type": "markdown",
   "metadata": {},
   "source": [
    "##### min()"
   ]
  },
  {
   "cell_type": "code",
   "execution_count": 71,
   "metadata": {},
   "outputs": [
    {
     "data": {
      "text/plain": [
       "2"
      ]
     },
     "execution_count": 71,
     "metadata": {},
     "output_type": "execute_result"
    }
   ],
   "source": [
    "# min(list)\n",
    "a_list = [45,67,80,2,43,10,9,8]\n",
    "\n",
    "min(a_list)\n",
    "\n",
    "# Works similar to this...\n",
    "# min1 = a_list[0]\n",
    "# for num in a_list:\n",
    "#     if num < min1:\n",
    "#         min1 = num\n",
    "# min1\n",
    "        \n",
    "\n"
   ]
  },
  {
   "cell_type": "markdown",
   "metadata": {},
   "source": [
    "##### max()"
   ]
  },
  {
   "cell_type": "code",
   "execution_count": 72,
   "metadata": {},
   "outputs": [
    {
     "data": {
      "text/plain": [
       "80"
      ]
     },
     "execution_count": 72,
     "metadata": {},
     "output_type": "execute_result"
    }
   ],
   "source": [
    "# max(list)\n",
    "a_list = [45,67,80,2,43,10,9,8]\n",
    "\n",
    "max(a_list)\n",
    "# max1 = a_list[0]\n",
    "# for num in a_list:\n",
    "#     if num > max1:\n",
    "#         max1 = num\n",
    "# print(max1)\n"
   ]
  },
  {
   "cell_type": "markdown",
   "metadata": {},
   "source": [
    "##### sum()"
   ]
  },
  {
   "cell_type": "code",
   "execution_count": 73,
   "metadata": {},
   "outputs": [
    {
     "data": {
      "text/plain": [
       "264"
      ]
     },
     "execution_count": 73,
     "metadata": {},
     "output_type": "execute_result"
    }
   ],
   "source": [
    "# sum(list)\n",
    "sum(a_list)\n",
    "\n",
    "# counter in the background... how it works:\n",
    "# counter = 0\n",
    "# for num in a_list:\n",
    "#     counter += num\n",
    "# print(counter)"
   ]
  },
  {
   "cell_type": "markdown",
   "metadata": {},
   "source": [
    "##### sorted()"
   ]
  },
  {
   "cell_type": "code",
   "execution_count": 77,
   "metadata": {},
   "outputs": [
    {
     "name": "stdout",
     "output_type": "stream",
     "text": [
      "[2, 3, 4, 5, 6, 67, 70]\n",
      "[5, 6, 70, 3, 2, 4, 67]\n"
     ]
    }
   ],
   "source": [
    "# sorted(list)\n",
    "b_list = [5,6,70,3,2,4,67]\n",
    "\n",
    "sorted_b = sorted(b_list)\n",
    "print(sorted_b)\n",
    "print(b_list)"
   ]
  },
  {
   "cell_type": "markdown",
   "metadata": {},
   "source": [
    "##### .sort() <br>\n",
    "<p>Difference between sort and sorted, is that sorted doesn't change original list it returns a copy, while .sort changes the original list</p>"
   ]
  },
  {
   "cell_type": "code",
   "execution_count": 80,
   "metadata": {},
   "outputs": [
    {
     "name": "stdout",
     "output_type": "stream",
     "text": [
      "[2, 3, 4, 5, 6, 67, 70]\n"
     ]
    }
   ],
   "source": [
    "# list.sort()\n",
    "# use sorted when you don't want to alter original list, use .sort() when you want to alter original list\n",
    "\n",
    "b_list.sort()\n",
    "print(b_list)"
   ]
  },
  {
   "cell_type": "markdown",
   "metadata": {},
   "source": [
    "##### Copying a List"
   ]
  },
  {
   "cell_type": "code",
   "execution_count": 83,
   "metadata": {},
   "outputs": [
    {
     "data": {
      "text/plain": [
       "[2, 3, 4, 5, 6, 67, 70]"
      ]
     },
     "execution_count": 83,
     "metadata": {},
     "output_type": "execute_result"
    }
   ],
   "source": [
    "# [:] copies a list, doesn't alter original\n",
    "c_list = list(b_list)\n",
    "c_list\n",
    "\n",
    "d_list = b_list[:]\n",
    "d_list"
   ]
  },
  {
   "cell_type": "markdown",
   "metadata": {},
   "source": [
    "##### 'in' keyword"
   ]
  },
  {
   "cell_type": "code",
   "execution_count": 99,
   "metadata": {},
   "outputs": [
    {
     "name": "stdout",
     "output_type": "stream",
     "text": [
      "Sam is an instructor\n",
      "Nate does not start with B\n",
      "Derek does not start with B\n",
      "Sam does not start with B\n",
      "Brian name starts with B\n",
      "Terrell does not start with B\n",
      "LeBron does not start with B\n"
     ]
    }
   ],
   "source": [
    "ct_instructors = [\"Nate\", \"Derek\", \"Sam\", \"Brian\", \"Terrell\", \"LeBron\"]\n",
    "\n",
    "#membership test\n",
    "if \"Sam\" in ct_instructors:\n",
    "    print(\"Sam is an instructor\")\n",
    "else:\n",
    "    print(\"Sam is not an instructor\")\n",
    "    \n",
    "    \n",
    "    \n",
    "# looking for a person whose name starts with 'B'\n",
    "# \"in\" after the \"for\" keyword, means \"look at each item inside of this list\"\n",
    "\n",
    "for teacher in ct_instructors:\n",
    "    if teacher[0] == 'B':\n",
    "        print(f\"{teacher} name starts with B\")\n",
    "    else:\n",
    "        print(f'{teacher} does not start with B')"
   ]
  },
  {
   "cell_type": "markdown",
   "metadata": {},
   "source": [
    "##### 'not in' keyword"
   ]
  },
  {
   "cell_type": "code",
   "execution_count": 109,
   "metadata": {},
   "outputs": [
    {
     "name": "stdout",
     "output_type": "stream",
     "text": [
      "No one named Zack here...\n"
     ]
    }
   ],
   "source": [
    "if 'Zack' not in ct_instructors:\n",
    "    print(\"No one named Zack here...\")\n",
    "else:\n",
    "    print('Zack has worked here for years!')"
   ]
  },
  {
   "cell_type": "markdown",
   "metadata": {},
   "source": [
    "##### Checking an Empty List"
   ]
  },
  {
   "cell_type": "code",
   "execution_count": 120,
   "metadata": {},
   "outputs": [
    {
     "name": "stdout",
     "output_type": "stream",
     "text": [
      "this is empty\n",
      "Maybe not!\n"
     ]
    }
   ],
   "source": [
    "# if l_1: or if l_1 = []\n",
    "l_1 = []\n",
    "if l_1 == []:\n",
    "    print(\"this is empty\")\n",
    "\n",
    "if l_1:\n",
    "    print(\"This is a list with stuff in it\")\n",
    "else:\n",
    "    print('Maybe not!')"
   ]
  },
  {
   "cell_type": "markdown",
   "metadata": {},
   "source": [
    "##### Removing Instances with a Loop"
   ]
  },
  {
   "cell_type": "code",
   "execution_count": 123,
   "metadata": {},
   "outputs": [
    {
     "name": "stdout",
     "output_type": "stream",
     "text": [
      "['Connor', 'Jeff', 'Brian', 'Evan', 'Jesse', 'Nate', 'Nate']\n",
      "['Connor', 'Jeff', 'Brian', 'Evan', 'Jesse', 'Nate']\n",
      "['Connor', 'Jeff', 'Brian', 'Evan', 'Jesse']\n"
     ]
    }
   ],
   "source": [
    "# while, remove\n",
    "\n",
    "names = ['Connor', 'Jeff', 'Brian', 'Nate', 'Evan', 'Jesse', 'Nate', 'Nate']\n",
    "\n",
    "# DO NOT do this! Will usually cause errors, not always depending on order of items\n",
    "# for name in names:\n",
    "#     if name == \"Nate\":\n",
    "#         names.remove(name)\n",
    "# print(names)\n",
    "\n",
    "# while loop - DO this!\n",
    "while 'Nate' in names:\n",
    "    names.remove('Nate')\n",
    "    print(names)\n",
    "\n",
    "    \n",
    "\n",
    "\n"
   ]
  },
  {
   "cell_type": "markdown",
   "metadata": {},
   "source": [
    "### List Exercise <br>\n",
    "<p>Remove all duplicates<br><b>Extra: Create a function that will remove any duplicates from a given list</b></p>"
   ]
  },
  {
   "cell_type": "code",
   "execution_count": 134,
   "metadata": {},
   "outputs": [
    {
     "name": "stdout",
     "output_type": "stream",
     "text": [
      "['connor', 'bob', 'evan', 'max', 2, 3, 4, 'kevin']\n"
     ]
    }
   ],
   "source": [
    "names = ['connor', 'connor', 'bob', 'connor', 'evan', 'max', 'evan', 2, 2, 2, 3, 3, 4, 'bob', 'kevin']\n",
    "# Hint 1: You will need an append\n",
    "# Hint 2: Using an empty list will make life easier\n",
    "\n",
    "new_copy = []\n",
    "for element in names:\n",
    "    if element not in new_copy:\n",
    "        new_copy.append(element)\n",
    "print(new_copy)"
   ]
  },
  {
   "cell_type": "markdown",
   "metadata": {},
   "source": [
    "### List Comprehensions <br>\n",
    "<p>Creating a quickly generated list to work with<br>*result*  = [*transform*    *iteration*         *filter*     ]</p>"
   ]
  },
  {
   "cell_type": "markdown",
   "metadata": {},
   "source": [
    "##### In a list comprehension we have a few pieces:\n",
    "1. The first is the counter/ variable - IN this the variable is x\n",
    "2. then we have a transform for the variable\n",
    "3. The finale part of a list comp is called the condition\n",
    "\n",
    "```python\n",
    "    [variable, transform, condition]\n",
    "```"
   ]
  },
  {
   "cell_type": "code",
   "execution_count": 137,
   "metadata": {},
   "outputs": [
    {
     "name": "stdout",
     "output_type": "stream",
     "text": [
      "[0, 1, 2, 3, 4, 5, 6, 7, 8, 9, 10, 11, 12, 13, 14, 15, 16, 17, 18, 19, 20, 21, 22, 23, 24, 25, 26, 27, 28, 29, 30, 31, 32, 33, 34, 35, 36, 37, 38, 39, 40, 41, 42, 43, 44, 45, 46, 47, 48, 49, 50, 51, 52, 53, 54, 55, 56, 57, 58, 59, 60, 61, 62, 63, 64, 65, 66, 67, 68, 69, 70, 71, 72, 73, 74, 75, 76, 77, 78, 79, 80, 81, 82, 83, 84, 85, 86, 87, 88, 89, 90, 91, 92, 93, 94, 95, 96, 97, 98, 99]\n",
      "[0, 1, 2, 3, 4, 5, 6, 7, 8, 9, 10, 11, 12, 13, 14, 15, 16, 17, 18, 19, 20, 21, 22, 23, 24, 25, 26, 27, 28, 29, 30, 31, 32, 33, 34, 35, 36, 37, 38, 39, 40, 41, 42, 43, 44, 45, 46, 47, 48, 49, 50, 51, 52, 53, 54, 55, 56, 57, 58, 59, 60, 61, 62, 63, 64, 65, 66, 67, 68, 69, 70, 71, 72, 73, 74, 75, 76, 77, 78, 79, 80, 81, 82, 83, 84, 85, 86, 87, 88, 89, 90, 91, 92, 93, 94, 95, 96, 97, 98, 99]\n"
     ]
    }
   ],
   "source": [
    "# number comprehension\n",
    "\n",
    "# With a regular for loop\n",
    "nums = []\n",
    "\n",
    "for i in range(100):\n",
    "    nums.append(i)\n",
    "print(nums)\n",
    "\n",
    "# List comprehension version\n",
    "# syntax: [variable, transform, condition]\n",
    "\n",
    "nums_comp = [i for i in range(100)]\n",
    "print(nums_comp)\n"
   ]
  },
  {
   "cell_type": "markdown",
   "metadata": {},
   "source": [
    "There are a few benefits to using List comprehensions. The most obvious would be that we now have shorter code to work with instead of using 3+ lines of code in the for loop variant.\n",
    "\n",
    "Another is an added benefit to memory usage. Since the list's memory is allocated first before adding elements to it, we don't have to resize the list once we add elements to it.\n",
    "\n",
    "Lastly, list comprehensions are considered the \"pythonic\" way to write code by the PEP8 standards (Python Style Guide)"
   ]
  },
  {
   "cell_type": "code",
   "execution_count": 139,
   "metadata": {},
   "outputs": [
    {
     "name": "stdout",
     "output_type": "stream",
     "text": [
      "[0, 1, 4, 9, 16, 25, 36, 49, 64, 81]\n"
     ]
    },
    {
     "data": {
      "text/plain": [
       "[0, 1, 4, 9, 16, 25, 36, 49, 64, 81]"
      ]
     },
     "execution_count": 139,
     "metadata": {},
     "output_type": "execute_result"
    }
   ],
   "source": [
    "squares = []\n",
    "\n",
    "for x in range(10):\n",
    "    squares.append(x**2)\n",
    "print(squares)\n",
    "\n",
    "# square number comprehension\n",
    "squares_comp = [x**2 for x in range(10)]\n",
    "squares_comp"
   ]
  },
  {
   "cell_type": "code",
   "execution_count": 144,
   "metadata": {},
   "outputs": [
    {
     "name": "stdout",
     "output_type": "stream",
     "text": [
      "['C', 'J', 'B', 'E', 'J', 'C']\n"
     ]
    },
    {
     "data": {
      "text/plain": [
       "['C', 'J', 'B', 'E', 'J', 'C']"
      ]
     },
     "execution_count": 144,
     "metadata": {},
     "output_type": "execute_result"
    }
   ],
   "source": [
    "names = ['Connor', 'Jeff', 'Brian', 'Evan', 'Jesse', 'Cody']\n",
    "#append to empty\n",
    "first_letter = []\n",
    "for name in names:\n",
    "    first_letter.append(name[0])\n",
    "print(first_letter)\n",
    "\n",
    "# list of strings comprehension\n",
    "first_comp = [name[0] for name in names]\n",
    "first_comp"
   ]
  },
  {
   "cell_type": "code",
   "execution_count": 145,
   "metadata": {},
   "outputs": [
    {
     "name": "stdout",
     "output_type": "stream",
     "text": [
      "['Connor', 'Cody']\n"
     ]
    },
    {
     "data": {
      "text/plain": [
       "['Connor', 'Cody']"
      ]
     },
     "execution_count": 145,
     "metadata": {},
     "output_type": "execute_result"
    }
   ],
   "source": [
    "#appending\n",
    "c_names = []\n",
    "\n",
    "for name in names:\n",
    "    if name[0] == 'C':\n",
    "        c_names.append(name)\n",
    "\n",
    "print(c_names)\n",
    "# Using the 'if' statement... always comes after the for loop\n",
    "c_comp = [name for name in names if name[0] == 'C']\n",
    "c_comp"
   ]
  },
  {
   "cell_type": "code",
   "execution_count": 150,
   "metadata": {},
   "outputs": [
    {
     "name": "stdout",
     "output_type": "stream",
     "text": [
      "['Connor', 'Not a C Name', 'Not a C Name', 'Not a C Name', 'Not a C Name', 'Cody']\n"
     ]
    }
   ],
   "source": [
    "# if you want to use an else...\n",
    "# Multiple condition syntax:\n",
    "# result = [variable if condition else other_variable for loop]\n",
    "\n",
    "c_names_3 = [name if name[0] == 'C' else 'Not a C Name' for name in names]\n",
    "\n",
    "print(c_names_3)"
   ]
  },
  {
   "cell_type": "markdown",
   "metadata": {},
   "source": [
    "### Tuples <br>\n",
    "<p><b>Defined as an immutable list</b></p><br>Seperated by commas using parenthesis"
   ]
  },
  {
   "cell_type": "code",
   "execution_count": 195,
   "metadata": {},
   "outputs": [
    {
     "name": "stdout",
     "output_type": "stream",
     "text": [
      "<class 'tuple'>\n",
      "<class 'tuple'>\n",
      "1\n",
      "\n",
      "Looping Over a tuple using value:\n",
      "1\n",
      "2\n",
      "3\n",
      "\n",
      "Looping over using index:\n",
      "1\n",
      "2\n",
      "3\n",
      "[1, 2, 3]\n",
      "(1, 2, 3)\n"
     ]
    }
   ],
   "source": [
    "# defining a new tuple\n",
    "tup_1 = 1,2,3\n",
    "tup_2 = (4,5,6)\n",
    "\n",
    "print(type(tup_1))\n",
    "print(type(tup_2))\n",
    "\n",
    "# Indexing into a tuple\n",
    "print(tup_1[0])\n",
    "\n",
    "# Attempting to change a tuple - you cannot do this! you will always run into an error\n",
    "# tup_1[0] = 45\n",
    "# tup_1.remove(4)\n",
    "\n",
    "\n",
    "# Looping over a tuple -- both ways\n",
    "print('\\nLooping Over a tuple using value:')\n",
    "for x in tup_1:\n",
    "    print(x)\n",
    "\n",
    "print('\\nLooping over using index:')\n",
    "for i in range(len(tup_1)):\n",
    "    print(tup_1[i])\n",
    "\n",
    "# Copy by typecasting\n",
    "list_1 = list(tup_1)\n",
    "print(list_1)\n",
    "tup_3 = tuple(list_1)\n",
    "print(tup_3)"
   ]
  },
  {
   "cell_type": "markdown",
   "metadata": {},
   "source": [
    "##### sorted()"
   ]
  },
  {
   "cell_type": "code",
   "execution_count": 203,
   "metadata": {},
   "outputs": [
    {
     "name": "stdout",
     "output_type": "stream",
     "text": [
      "[8, 10, 17, 55, 90, 104]\n",
      "Help on built-in function sorted in module builtins:\n",
      "\n",
      "sorted(iterable, /, *, key=None, reverse=False)\n",
      "    Return a new list containing all items from the iterable in ascending order.\n",
      "    \n",
      "    A custom key function can be supplied to customize the sort order, and the\n",
      "    reverse flag can be set to request the result in descending order.\n",
      "\n"
     ]
    }
   ],
   "source": [
    "tup_5 = (10,17,55,90,104,8)\n",
    "\n",
    "sorted_tup = sorted(tup_5)\n",
    "\n",
    "print(sorted_tup)\n",
    "\n",
    "new_tup = tuple(sorted_tup)\n",
    "new_tup\n",
    "\n",
    "help(sorted)"
   ]
  },
  {
   "cell_type": "markdown",
   "metadata": {},
   "source": [
    "##### Adding values to a Tuple"
   ]
  },
  {
   "cell_type": "code",
   "execution_count": 197,
   "metadata": {},
   "outputs": [
    {
     "name": "stdout",
     "output_type": "stream",
     "text": [
      "(10, 17, 55, 90, 104, 8, 5, '5')\n"
     ]
    },
    {
     "data": {
      "text/plain": [
       "(10, 17, 55, 90, 104, 8, 5, '5', 5)"
      ]
     },
     "execution_count": 197,
     "metadata": {},
     "output_type": "execute_result"
    }
   ],
   "source": [
    "print(tup_5)\n",
    "tup_5 = tup_5 + (5,)\n",
    "tup_5"
   ]
  },
  {
   "cell_type": "markdown",
   "metadata": {},
   "source": [
    "## Functions"
   ]
  },
  {
   "cell_type": "markdown",
   "metadata": {},
   "source": [
    "##### User-Defined vs. Built-In Functions"
   ]
  },
  {
   "cell_type": "code",
   "execution_count": 216,
   "metadata": {},
   "outputs": [
    {
     "name": "stdout",
     "output_type": "stream",
     "text": [
      "<function sayHello at 0x7f95f0642c20>\n",
      "Hello World!\n",
      "Hello World!\n"
     ]
    }
   ],
   "source": [
    "# User defined function\n",
    "# 'def' keyword, functionName, (potential params, potential params,...)\n",
    "\n",
    "def sayHello():\n",
    "    return \"Hello World!\"\n",
    "\n",
    "# Showing the function call in memory\n",
    "print(sayHello)\n",
    "\n",
    "#Showing function invocation\n",
    "print(sayHello())\n",
    "\n",
    "hello = sayHello()\n",
    "print(hello)"
   ]
  },
  {
   "cell_type": "markdown",
   "metadata": {},
   "source": [
    "##### Accepting Parameters"
   ]
  },
  {
   "cell_type": "code",
   "execution_count": 227,
   "metadata": {},
   "outputs": [
    {
     "name": "stdout",
     "output_type": "stream",
     "text": [
      "Nate Welter\n",
      "Welter Nate\n"
     ]
    },
    {
     "data": {
      "text/plain": [
       "'Coding Temple'"
      ]
     },
     "execution_count": 227,
     "metadata": {},
     "output_type": "execute_result"
    }
   ],
   "source": [
    "# parameters are names for expected function inputs\n",
    "# Order matters\n",
    "# inputs can be any data type or object\n",
    "\n",
    "def printFullName(first_name, last_name):\n",
    "    return first_name + \" \" + last_name\n",
    "\n",
    "print(printFullName(\"Nate\", \"Welter\"))\n",
    "print(printFullName(\"Welter\", \"Nate\"))\n",
    "\n",
    "# If you want to go out of order\n",
    "printFullName(last_name = 'Temple', first_name = 'Coding')"
   ]
  },
  {
   "cell_type": "markdown",
   "metadata": {},
   "source": [
    "##### Default Parameters"
   ]
  },
  {
   "cell_type": "code",
   "execution_count": 234,
   "metadata": {},
   "outputs": [
    {
     "name": "stdout",
     "output_type": "stream",
     "text": [
      "The name is... James Bond\n"
     ]
    },
    {
     "data": {
      "text/plain": [
       "'The name is... James Smith'"
      ]
     },
     "execution_count": 234,
     "metadata": {},
     "output_type": "execute_result"
    }
   ],
   "source": [
    "# default parameters will default to a predetermined value unless otherwaise overwritten\n",
    "# default parameters must come at the END after other params\n",
    "\n",
    "def printAgentName(first_name, last_name = 'Bond'):\n",
    "    return f'The name is... {first_name} {last_name}'\n",
    "\n",
    "print(printAgentName('James'))\n",
    "\n",
    "# Overwriting the default\n",
    "printAgentName('James','Smith')\n",
    "\n",
    "# DONT DO THIS\n",
    "# def wontWork(last_name = 'Bond', first_name):\n",
    "#     return f'The name is... {first_name} {last_name}'\n",
    "\n",
    "# wontWork('James')"
   ]
  },
  {
   "cell_type": "markdown",
   "metadata": {},
   "source": [
    "##### Making an Argument Optional"
   ]
  },
  {
   "cell_type": "code",
   "execution_count": 254,
   "metadata": {},
   "outputs": [
    {
     "data": {
      "text/plain": [
       "'John Jacob Smith'"
      ]
     },
     "execution_count": 254,
     "metadata": {},
     "output_type": "execute_result"
    }
   ],
   "source": [
    "def printFullName(first, last, middle = \"\"):\n",
    "    if middle:\n",
    "        return first +  f' {middle} ' + last\n",
    "    else:\n",
    "        return f'{first} {last}'\n",
    "\n",
    "printFullName('John', 'Smith')"
   ]
  },
  {
   "cell_type": "markdown",
   "metadata": {},
   "source": [
    "##### Keyword Arguments"
   ]
  },
  {
   "cell_type": "code",
   "execution_count": 258,
   "metadata": {},
   "outputs": [],
   "source": [
    "# last_name='Max', first_name='Smith' in the function call\n",
    "\n",
    "# see above\n"
   ]
  },
  {
   "cell_type": "markdown",
   "metadata": {},
   "source": [
    "# Creating a start, stop, step function"
   ]
  },
  {
   "cell_type": "code",
   "execution_count": 264,
   "metadata": {},
   "outputs": [
    {
     "name": "stdout",
     "output_type": "stream",
     "text": [
      "1\n",
      "3\n",
      "5\n",
      "7\n",
      "9\n",
      "11\n",
      "13\n",
      "15\n",
      "17\n",
      "19\n"
     ]
    }
   ],
   "source": [
    "def my_range(stop, start=0, step=1):\n",
    "    for i in range(start, stop, step):\n",
    "        print(i)\n",
    "\n",
    "my_range(20,1,2)\n"
   ]
  },
  {
   "cell_type": "markdown",
   "metadata": {},
   "source": [
    "##### Returning Values"
   ]
  },
  {
   "cell_type": "code",
   "execution_count": 266,
   "metadata": {
    "scrolled": true
   },
   "outputs": [
    {
     "name": "stdout",
     "output_type": "stream",
     "text": [
      "8\n"
     ]
    }
   ],
   "source": [
    "def addNums(num1,num2):\n",
    "    return num1 + num2\n",
    "\n",
    "# returning values from functions allows you to store and utilize data created with that function...\n",
    "# printing will display data, but not allow you to do anything with it \n",
    "new_num = addNums(2,6)\n"
   ]
  },
  {
   "cell_type": "markdown",
   "metadata": {},
   "source": [
    "##### *args / **kwargs (keyword args)"
   ]
  },
  {
   "cell_type": "code",
   "execution_count": 272,
   "metadata": {},
   "outputs": [
    {
     "name": "stdout",
     "output_type": "stream",
     "text": [
      "3\n",
      "('Nate', 'CodingTemple', 45, [1, 2, 3])\n",
      "{'city': 'Chicago', 'food': 'hotdog', 'age': 40} \n",
      "\n",
      "Nate\n",
      "CodingTemple\n",
      "45\n",
      "[1, 2, 3]\n",
      "city\n",
      "food\n",
      "age\n"
     ]
    }
   ],
   "source": [
    "# stands for arguments, takes ANY amount of optional arguments as parameters\n",
    "# must be last if multiple params are present\n",
    "\n",
    "def printArgs(num1, *args, **kwargs):\n",
    "    print(num1)\n",
    "    print(args)\n",
    "    print(kwargs, '\\n')\n",
    "    \n",
    "    for arg in args:\n",
    "        print(arg)\n",
    "    \n",
    "    for kwarg in kwargs:\n",
    "        print(kwarg)\n",
    "    \n",
    "    \n",
    "    \n",
    "printArgs(3, \"Nate\", \"CodingTemple\", 45, [1,2,3], city=\"Chicago\", food='hotdog', age=40)"
   ]
  },
  {
   "cell_type": "markdown",
   "metadata": {},
   "source": [
    "##### Docstring"
   ]
  },
  {
   "cell_type": "code",
   "execution_count": 280,
   "metadata": {},
   "outputs": [
    {
     "name": "stdout",
     "output_type": "stream",
     "text": [
      "Marcus\n",
      "Kevin\n",
      "Sam\n",
      "Nate\n",
      "Help on function printNames in module __main__:\n",
      "\n",
      "printNames(list_1)\n",
      "    Function requires a list to be passed as a parameter\n",
      "    and will print the contents of the list. Expecting a list\n",
      "    of names(strings) to be passed.\n",
      "\n"
     ]
    }
   ],
   "source": [
    "def printNames(list_1):\n",
    "    \"\"\"\n",
    "        Function requires a list to be passed as a parameter\n",
    "        and will print the contents of the list. Expecting a list\n",
    "        of names(strings) to be passed.\n",
    "    \"\"\"\n",
    "    for name in list_1:\n",
    "        print(name)\n",
    "\n",
    "some_list = ['Marcus', 'Kevin', 'Sam', 'Nate']\n",
    "printNames(some_list)\n",
    "help(printNames)"
   ]
  },
  {
   "cell_type": "markdown",
   "metadata": {},
   "source": [
    "##### Using a User Function in a Loop"
   ]
  },
  {
   "cell_type": "code",
   "execution_count": 282,
   "metadata": {},
   "outputs": [
    {
     "name": "stdout",
     "output_type": "stream",
     "text": [
      "What is your number?15\n",
      "Here is your number + 1:\n",
      "16\n",
      "Ready to quit? press qn\n",
      "What is your number?12\n",
      "Here is your number + 1:\n",
      "13\n",
      "Ready to quit? press qq\n"
     ]
    }
   ],
   "source": [
    "def addOne(num):\n",
    "    print(num+1)\n",
    "    \n",
    "while True:\n",
    "    response = int(input('What is your number?'))\n",
    "    print('Here is your number + 1:')\n",
    "    \n",
    "    addOne(response)\n",
    "    \n",
    "    quit = input('Ready to quit? press q')\n",
    "    if quit == 'q':\n",
    "        break"
   ]
  },
  {
   "cell_type": "markdown",
   "metadata": {},
   "source": [
    "## Function Exercise <br>\n",
    "<p>Write a function that loops through a list of first_names and a list of last_names, combines the two and return a list of full_names</p>"
   ]
  },
  {
   "cell_type": "code",
   "execution_count": 289,
   "metadata": {},
   "outputs": [
    {
     "data": {
      "text/plain": [
       "['John Smith', 'Evan Smith', 'Jordan Williams', 'Max Bell']"
      ]
     },
     "execution_count": 289,
     "metadata": {},
     "output_type": "execute_result"
    }
   ],
   "source": [
    "first_name = ['John', 'Evan', 'Jordan', 'Max']\n",
    "last_name = ['Smith', 'Smith', 'Williams', 'Bell']\n",
    "\n",
    "# Output: ['John Smith', 'Evan Smith', 'Jordan Williams', 'Max Bell']\n",
    "\n",
    "#Taeho's list comprehension\n",
    "def combineList(list_1, list_2):\n",
    "    return [list_1[num] + \" \" + list_2[num] for num in range(len(list_1))]\n",
    "\n",
    "\n",
    "#Solution using .append()\n",
    "def firstLast(list_1, list_2):\n",
    "    full_names = []\n",
    "    for i in range(len(first_name)):\n",
    "        full_names.append(f\"{first_name[i]} {last_name[i]}\")\n",
    "    return full_names\n",
    "        \n",
    "firstLast(first_name, last_name)\n"
   ]
  },
  {
   "cell_type": "markdown",
   "metadata": {},
   "source": [
    "## Scope <br>\n",
    "<p>Scope refers to the ability to access variables, different types of scope include:<br>a) Global<br>b) Function (local)<br>c) Class (local)</p>"
   ]
  },
  {
   "cell_type": "code",
   "execution_count": 297,
   "metadata": {},
   "outputs": [
    {
     "name": "stdout",
     "output_type": "stream",
     "text": [
      "3\n",
      "0\n",
      "1\n",
      "2\n",
      "3\n",
      "4\n"
     ]
    }
   ],
   "source": [
    "number = 3 # Global variable -- available GLOBALLY or anywhere\n",
    "\n",
    "def myFunction():\n",
    "    my_num = 17 # Local variable... can only be referenced inside of this function\n",
    "    print(number)\n",
    "    return my_num\n",
    "\n",
    "\n",
    "myFunction()\n",
    "\n",
    "\n",
    "\n",
    "### for loop vars a technically global -- no reason to use them outside of their looping functionality\n",
    "for i in range(5):\n",
    "    print(i)"
   ]
  },
  {
   "cell_type": "markdown",
   "metadata": {},
   "source": [
    "# Exercises"
   ]
  },
  {
   "cell_type": "markdown",
   "metadata": {},
   "source": [
    "## Exercise 1 <br>\n",
    "<p>Given a list as a parameter,write a function that returns a list of numbers that are less than ten</b></i></p><br>\n",
    "<p> For example: Say your input parameter to the function is [1,11,14,5,8,9]...Your output should [1,5,8,9]</p>"
   ]
  },
  {
   "cell_type": "code",
   "execution_count": 296,
   "metadata": {},
   "outputs": [
    {
     "name": "stdout",
     "output_type": "stream",
     "text": [
      "4\n"
     ]
    }
   ],
   "source": [
    "# Use the following list - [1,11,14,5,8,9]\n",
    "\n",
    "l_1 = [1,11,14,5,8,9]"
   ]
  },
  {
   "cell_type": "markdown",
   "metadata": {},
   "source": [
    "## Exercise 2 <br>\n",
    "<p>Write a function that takes in two lists and returns the two lists merged together and sorted<br>\n",
    "<b><i>Hint: You can use the .sort() method</i></b></p>"
   ]
  },
  {
   "cell_type": "code",
   "execution_count": null,
   "metadata": {},
   "outputs": [],
   "source": [
    "l_1 = [1,2,3,4,5,6]\n",
    "l_2 = [3,4,5,6,7,8,10]\n",
    "\n",
    "\n"
   ]
  }
 ],
 "metadata": {
  "kernelspec": {
   "display_name": "Python 3",
   "language": "python",
   "name": "python3"
  },
  "language_info": {
   "codemirror_mode": {
    "name": "ipython",
    "version": 3
   },
   "file_extension": ".py",
   "mimetype": "text/x-python",
   "name": "python",
   "nbconvert_exporter": "python",
   "pygments_lexer": "ipython3",
   "version": "3.7.6"
  }
 },
 "nbformat": 4,
 "nbformat_minor": 2
}
